{
 "cells": [
  {
   "cell_type": "code",
   "execution_count": 1,
   "metadata": {},
   "outputs": [
    {
     "data": {
      "text/plain": [
       "0.35798947507090273"
      ]
     },
     "metadata": {},
     "output_type": "display_data"
    }
   ],
   "source": [
    "function lhs(N, t, a)\n",
    "    1/N * sum(0:N) do k\n",
    "        exp(- (k^2 * π^2 *t)/(2N^2) ) * cos(k*π*a /N)\n",
    "    end\n",
    "end\n",
    "# lhs(2,1,2)\n",
    "\n",
    "function rhs(N, t, a)\n",
    "    1/2/sqrt(2π*t) * exp(-a^2/2/t) - 1/2N\n",
    "end"
   ]
  },
  {
   "cell_type": "code",
   "execution_count": null,
   "metadata": {},
   "outputs": [],
   "source": []
  }
 ],
 "metadata": {
  "kernelspec": {
   "display_name": "Julia 1.10.4",
   "language": "julia",
   "name": "julia-1.10"
  },
  "language_info": {
   "file_extension": ".jl",
   "mimetype": "application/julia",
   "name": "julia",
   "version": "1.10.4"
  }
 },
 "nbformat": 4,
 "nbformat_minor": 2
}
