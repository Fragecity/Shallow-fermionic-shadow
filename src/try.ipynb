{
 "cells": [
  {
   "cell_type": "code",
   "execution_count": 1,
   "metadata": {},
   "outputs": [],
   "source": [
    "include(\"Utils.jl\")\n",
    "include(\"Spread.jl\")\n",
    "using .SpreadUtils\n",
    "using .PolySpreads"
   ]
  },
  {
   "cell_type": "code",
   "execution_count": 2,
   "metadata": {},
   "outputs": [
    {
     "data": {
      "text/plain": [
       "Dict{Any, Any} with 6 entries:\n",
       "  (2, 4) => 1//6\n",
       "  (3, 3) => 2//9\n",
       "  (2, 2) => 1//36\n",
       "  (3, 4) => 5//18\n",
       "  (2, 3) => 5//18\n",
       "  (4, 4) => 1//36"
      ]
     },
     "metadata": {},
     "output_type": "display_data"
    }
   ],
   "source": [
    "poly_spread_N(8, (3,3), 1)"
   ]
  },
  {
   "cell_type": "code",
   "execution_count": 3,
   "metadata": {},
   "outputs": [
    {
     "data": {
      "text/plain": [
       "free_spread (generic function with 1 method)"
      ]
     },
     "metadata": {},
     "output_type": "display_data"
    }
   ],
   "source": [
    "function free_spread_tup(tup, location, N)\n",
    "    res = Dict()\n",
    "    \n",
    "    tup = [tup...]\n",
    "    # coeff = pair[2]\n",
    "\n",
    "    i = tup[location]\n",
    "    \n",
    "    \n",
    "    if i == 1\n",
    "        spread_tup_right = deepcopy(tup)\n",
    "        spread_tup_right[location] = 2\n",
    "        # spread_tup_right = SpreadUtils.ordered(spread_tup_right...)\n",
    "        res = Dict(Tuple(tup)=>  3//4,  Tuple(spread_tup_right) =>  1//4)\n",
    "    elseif i == N\n",
    "        spread_tup_left = deepcopy(tup)\n",
    "        spread_tup_left[location] = N-1\n",
    "        # spread_tup_left = SpreadUtils.ordered(spread_tup_left...)\n",
    "        res = Dict(Tuple(tup)=>  3//4,  Tuple(spread_tup_left) =>  1//4)\n",
    "    else\n",
    "        spread_tup_left = deepcopy(tup)\n",
    "        spread_tup_left[location] = i-1\n",
    "        spread_tup_right = deepcopy(tup)\n",
    "        spread_tup_right[location] = i+1\n",
    "\n",
    "        # spread_tup_left = SpreadUtils.ordered(spread_tup_left...)\n",
    "        # spread_tup_right = SpreadUtils.ordered(spread_tup_right...)\n",
    "        res = Dict(Tuple(tup)=>  1//2,  Tuple(spread_tup_left) =>  1//4, Tuple(spread_tup_right) =>  1//4)\n",
    "    end\n",
    "\n",
    "    return res\n",
    "end\n",
    "\n",
    "\n",
    "function free_spread(diction, N)\n",
    "    res = Dict()\n",
    "    for (key, value) in diction\n",
    "        spread1 = free_spread_tup(key, 1, N)\n",
    "        for (key2, value2) in spread1\n",
    "            spread2 = free_spread_tup(key2, 2, N)\n",
    "            for (key3, value3) in spread2\n",
    "                key3 = SpreadUtils.ordered(key3...)\n",
    "                new_dict = Dict(key3 => value3*value2)\n",
    "                mergewith!(+, res, new_dict)\n",
    "                # push!(res, ) \n",
    "            end\n",
    "        end\n",
    "    end\n",
    "    return res\n",
    "end"
   ]
  },
  {
   "cell_type": "code",
   "execution_count": 4,
   "metadata": {},
   "outputs": [
    {
     "data": {
      "text/plain": [
       "Dict{Tuple{Int64, Int64}, Rational{Int64}} with 2 entries:\n",
       "  (1, 1) => 3//4\n",
       "  (2, 1) => 1//4"
      ]
     },
     "metadata": {},
     "output_type": "display_data"
    }
   ],
   "source": [
    "free_spread_tup((1,1), 1, 3)"
   ]
  },
  {
   "cell_type": "code",
   "execution_count": 11,
   "metadata": {},
   "outputs": [
    {
     "data": {
      "text/plain": [
       "Dict{Any, Any} with 3 entries:\n",
       "  (1, 2) => 5//72\n",
       "  (1, 1) => -5//144\n",
       "  (2, 2) => -5//144"
      ]
     },
     "metadata": {},
     "output_type": "display_data"
    }
   ],
   "source": [
    "N = 16\n",
    "d = (1,1)\n",
    "\n",
    "spreaded_dict = poly_spread_N(N, d,1)\n",
    "free_spread_dict = free_spread(Dict(d => 1//1), N)\n",
    "\n",
    "interact_dict = mergewith(-, spreaded_dict, free_spread_dict)\n",
    "filter(pair -> pair[2] != 0, interact_dict)"
   ]
  },
  {
   "cell_type": "code",
   "execution_count": 12,
   "metadata": {},
   "outputs": [
    {
     "data": {
      "text/plain": [
       "Dict{Any, Any} with 3 entries:\n",
       "  (1, 2) => 3//8\n",
       "  (1, 1) => 9//16\n",
       "  (2, 2) => 1//16"
      ]
     },
     "metadata": {},
     "output_type": "display_data"
    }
   ],
   "source": [
    "free_spread_dict"
   ]
  },
  {
   "cell_type": "code",
   "execution_count": 7,
   "metadata": {},
   "outputs": [
    {
     "data": {
      "text/plain": [
       "1//1"
      ]
     },
     "metadata": {},
     "output_type": "display_data"
    }
   ],
   "source": [
    "sum(free_spread_dict) do pair\n",
    "    pair[2]\n",
    "end"
   ]
  },
  {
   "cell_type": "code",
   "execution_count": 8,
   "metadata": {},
   "outputs": [
    {
     "data": {
      "text/plain": [
       "Dict{Any, Any} with 8 entries:\n",
       "  (2, 4) => 1//8\n",
       "  (1, 2) => 1//16\n",
       "  (3, 3) => 5//48\n",
       "  (1, 3) => 1//8\n",
       "  (2, 2) => 5//48\n",
       "  (3, 4) => 1//16\n",
       "  (1, 4) => 1//16\n",
       "  (2, 3) => 17//48"
      ]
     },
     "metadata": {},
     "output_type": "display_data"
    }
   ],
   "source": [
    "spreaded_dict"
   ]
  }
 ],
 "metadata": {
  "kernelspec": {
   "display_name": "Julia 1.10.2",
   "language": "julia",
   "name": "julia-1.10"
  },
  "language_info": {
   "file_extension": ".jl",
   "mimetype": "application/julia",
   "name": "julia",
   "version": "1.10.2"
  }
 },
 "nbformat": 4,
 "nbformat_minor": 2
}
