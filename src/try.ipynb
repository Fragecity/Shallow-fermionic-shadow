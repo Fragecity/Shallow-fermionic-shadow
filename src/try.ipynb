{
 "cells": [
  {
   "cell_type": "code",
   "execution_count": 11,
   "metadata": {},
   "outputs": [
    {
     "data": {
      "text/plain": [
       "0.12500000000000006"
      ]
     },
     "metadata": {},
     "output_type": "display_data"
    }
   ],
   "source": [
    "function A(N, i,mu,t)\n",
    "    sum(1:N-1) do k\n",
    "        _cs_term(N, i,mu,k,t)\n",
    "    end\n",
    "end\n",
    "\n",
    "function _cs_term(N, i,mu,k,t)\n",
    "    cos(pi*(i-0.5)*k / N) * cos(pi*(mu-0.5)*k / N) * cos(pi*k /N/2)^2t \n",
    "end\n",
    "\n"
   ]
  },
  {
   "cell_type": "code",
   "execution_count": 12,
   "metadata": {},
   "outputs": [
    {
     "data": {
      "text/plain": [
       "rhs (generic function with 1 method)"
      ]
     },
     "metadata": {},
     "output_type": "display_data"
    }
   ],
   "source": [
    "function sumAA(N, i,j,t)\n",
    "    sum(1:N) do mu\n",
    "        A(N, i,mu,t) * A(N, j,mu,t)\n",
    "    end\n",
    "end\n",
    "\n",
    "function rhs(N, i,j,t)\n",
    "    N/2*sum(1:N) do eta\n",
    "        cos(pi*(i-0.5)*eta / N) * cos(pi*(j-0.5)*eta / N) * cos(pi*eta /N/2)^4t\n",
    "    end\n",
    "end"
   ]
  },
  {
   "cell_type": "code",
   "execution_count": 14,
   "metadata": {},
   "outputs": [
    {
     "data": {
      "text/plain": [
       "(79.0625, 79.06250000000001)"
      ]
     },
     "metadata": {},
     "output_type": "display_data"
    }
   ],
   "source": [
    "N, i, j, t = 40,3,2,2\n",
    "\n",
    "sumAA(N, i,j,t), rhs(N, i,j,t)"
   ]
  },
  {
   "cell_type": "code",
   "execution_count": 7,
   "metadata": {},
   "outputs": [
    {
     "data": {
      "text/plain": [
       "Dict{Char, Tuple{Bool, Bool}} with 4 entries:\n",
       "  'I' => (0, 0)\n",
       "  'Y' => (1, 1)\n",
       "  'Z' => (0, 1)\n",
       "  'X' => (1, 0)"
      ]
     },
     "metadata": {},
     "output_type": "display_data"
    }
   ],
   "source": [
    "str2bin = Dict('I' => (false, false), 'X' => (true, false), 'Y' => (true, true), 'Z' => (false, true))"
   ]
  },
  {
   "cell_type": "code",
   "execution_count": 9,
   "metadata": {},
   "outputs": [
    {
     "data": {
      "text/plain": [
       "(false, false)"
      ]
     },
     "metadata": {},
     "output_type": "display_data"
    }
   ],
   "source": [
    "str2bin['I']"
   ]
  },
  {
   "cell_type": "code",
   "execution_count": 6,
   "metadata": {},
   "outputs": [
    {
     "name": "stdout",
     "output_type": "stream",
     "text": [
      "IXY"
     ]
    }
   ],
   "source": [
    "name  = \"IXY\"\n",
    "\n",
    "for p in name\n",
    "    v = \n",
    "end"
   ]
  },
  {
   "cell_type": "code",
   "execution_count": 19,
   "metadata": {},
   "outputs": [
    {
     "data": {
      "text/plain": [
       "(false, false, true, false, true, true)"
      ]
     },
     "metadata": {},
     "output_type": "display_data"
    }
   ],
   "source": [
    "v = [str2bin[p] for p in name]\n",
    "v = (Tuple ∘ collect ∘ Iterators.flatten)(v)\n"
   ]
  },
  {
   "cell_type": "code",
   "execution_count": 20,
   "metadata": {},
   "outputs": [
    {
     "data": {
      "text/plain": [
       "NTuple{6, Bool}"
      ]
     },
     "metadata": {},
     "output_type": "display_data"
    }
   ],
   "source": [
    "typeof(v)"
   ]
  },
  {
   "cell_type": "code",
   "execution_count": 17,
   "metadata": {},
   "outputs": [
    {
     "data": {
      "text/plain": [
       "NTuple{4, Int64}"
      ]
     },
     "metadata": {},
     "output_type": "display_data"
    }
   ],
   "source": [
    "typeof((0,0,0,0)) "
   ]
  },
  {
   "cell_type": "code",
   "execution_count": 1,
   "metadata": {},
   "outputs": [
    {
     "data": {
      "text/plain": [
       "Pauli(\"Y\", (true, true))"
      ]
     },
     "metadata": {},
     "output_type": "display_data"
    }
   ],
   "source": [
    "module Paulis\n",
    "    export Pauli, *\n",
    "    \n",
    "    \n",
    "    str2bin = Dict('I' => (false, false), 'X' => (true, false), 'Y' => (true, true), 'Z' => (false, true))\n",
    "    bin2str = Dict((false, false) => 'I', (true, false) => 'X', (true, true) => 'Y', (false, true) => 'Z')\n",
    "\n",
    "    struct Pauli\n",
    "    name::String\n",
    "        bin::Tuple{Vararg{Bool}}\n",
    "\n",
    "        function Pauli(name::String)\n",
    "            vec = [str2bin[p] for p in name]\n",
    "            vec = (Tuple ∘ collect ∘ Iterators.flatten)(vec)\n",
    "            new(name, vec)\n",
    "        end\n",
    "\n",
    "        function Pauli(bin::Tuple{Vararg{Bool}})\n",
    "            name = join([bin2str[ (bin(ind), bin(ind+1)) ] for ind in 1:2:length(bin) ])\n",
    "            new(name, bin)\n",
    "        end\n",
    "\n",
    "    end\n",
    "\n",
    "    function Base.:*(a::Pauli, b::Pauli)\n",
    "        new_bin = a.bin .⊻ b.bin\n",
    "        Pauli(new_bin)\n",
    "    end\n",
    "end\n",
    "\n",
    "using .Paulis\n",
    "a = Pauli(\"X\")\n",
    "b = Pauli(\"Y\")\n"
   ]
  },
  {
   "cell_type": "code",
   "execution_count": 9,
   "metadata": {},
   "outputs": [
    {
     "data": {
      "text/plain": [
       "1-element Vector{Char}:\n",
       " 'X': ASCII/Unicode U+0058 (category Lu: Letter, uppercase)"
      ]
     },
     "metadata": {},
     "output_type": "display_data"
    }
   ],
   "source": [
    "bin = a.bin\n",
    "bin2str = Dict((false, false) => 'I', (true, false) => 'X', (true, true) => 'Y', (false, true) => 'Z')\n",
    "[bin2str[ (bin[ind], bin[ind+1]) ] for ind in 1:2:length(bin) ]"
   ]
  },
  {
   "cell_type": "code",
   "execution_count": 4,
   "metadata": {},
   "outputs": [
    {
     "data": {
      "text/plain": [
       "1:2:3"
      ]
     },
     "metadata": {},
     "output_type": "display_data"
    }
   ],
   "source": [
    "1:2:3"
   ]
  },
  {
   "cell_type": "code",
   "execution_count": 5,
   "metadata": {},
   "outputs": [
    {
     "data": {
      "text/plain": [
       "1:2:1"
      ]
     },
     "metadata": {},
     "output_type": "display_data"
    }
   ],
   "source": [
    "1:2:2"
   ]
  },
  {
   "cell_type": "code",
   "execution_count": 8,
   "metadata": {},
   "outputs": [
    {
     "name": "stdout",
     "output_type": "stream",
     "text": [
      "true\n"
     ]
    }
   ],
   "source": [
    "for ind in 1:2:length(bin)\n",
    "    println(bin[ind])\n",
    "end"
   ]
  },
  {
   "cell_type": "code",
   "execution_count": null,
   "metadata": {},
   "outputs": [],
   "source": []
  }
 ],
 "metadata": {
  "kernelspec": {
   "display_name": "Julia 1.10.3",
   "language": "julia",
   "name": "julia-1.10"
  },
  "language_info": {
   "file_extension": ".jl",
   "mimetype": "application/julia",
   "name": "julia",
   "version": "1.10.3"
  }
 },
 "nbformat": 4,
 "nbformat_minor": 2
}
