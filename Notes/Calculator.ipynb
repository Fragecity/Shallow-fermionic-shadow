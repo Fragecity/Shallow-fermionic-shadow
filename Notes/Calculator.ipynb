{
 "cells": [
  {
   "cell_type": "code",
   "execution_count": 1,
   "metadata": {},
   "outputs": [],
   "source": [
    "import sympy as sp"
   ]
  },
  {
   "cell_type": "code",
   "execution_count": 2,
   "metadata": {},
   "outputs": [
    {
     "ename": "ComputationFailed",
     "evalue": "div(4, 6) failed without generators",
     "output_type": "error",
     "traceback": [
      "\u001b[1;31m---------------------------------------------------------------------------\u001b[0m",
      "\u001b[1;31mPolificationFailed\u001b[0m                        Traceback (most recent call last)",
      "File \u001b[1;32md:\\Tool\\Environments\\Anaconda\\Lib\\site-packages\\sympy\\polys\\polytools.py:4977\u001b[0m, in \u001b[0;36mdiv\u001b[1;34m(f, g, *gens, **args)\u001b[0m\n\u001b[0;32m   4976\u001b[0m \u001b[38;5;28;01mtry\u001b[39;00m:\n\u001b[1;32m-> 4977\u001b[0m     (F, G), opt \u001b[38;5;241m=\u001b[39m parallel_poly_from_expr((f, g), \u001b[38;5;241m*\u001b[39mgens, \u001b[38;5;241m*\u001b[39m\u001b[38;5;241m*\u001b[39margs)\n\u001b[0;32m   4978\u001b[0m \u001b[38;5;28;01mexcept\u001b[39;00m PolificationFailed \u001b[38;5;28;01mas\u001b[39;00m exc:\n",
      "File \u001b[1;32md:\\Tool\\Environments\\Anaconda\\Lib\\site-packages\\sympy\\polys\\polytools.py:4504\u001b[0m, in \u001b[0;36mparallel_poly_from_expr\u001b[1;34m(exprs, *gens, **args)\u001b[0m\n\u001b[0;32m   4503\u001b[0m opt \u001b[38;5;241m=\u001b[39m options\u001b[38;5;241m.\u001b[39mbuild_options(gens, args)\n\u001b[1;32m-> 4504\u001b[0m \u001b[38;5;28;01mreturn\u001b[39;00m _parallel_poly_from_expr(exprs, opt)\n",
      "File \u001b[1;32md:\\Tool\\Environments\\Anaconda\\Lib\\site-packages\\sympy\\polys\\polytools.py:4557\u001b[0m, in \u001b[0;36m_parallel_poly_from_expr\u001b[1;34m(exprs, opt)\u001b[0m\n\u001b[0;32m   4556\u001b[0m \u001b[38;5;28;01mif\u001b[39;00m \u001b[38;5;129;01mnot\u001b[39;00m opt\u001b[38;5;241m.\u001b[39mgens:\n\u001b[1;32m-> 4557\u001b[0m     \u001b[38;5;28;01mraise\u001b[39;00m PolificationFailed(opt, origs, exprs, \u001b[38;5;28;01mTrue\u001b[39;00m)\n\u001b[0;32m   4559\u001b[0m \u001b[38;5;28;01mfrom\u001b[39;00m \u001b[38;5;21;01msympy\u001b[39;00m\u001b[38;5;21;01m.\u001b[39;00m\u001b[38;5;21;01mfunctions\u001b[39;00m\u001b[38;5;21;01m.\u001b[39;00m\u001b[38;5;21;01melementary\u001b[39;00m\u001b[38;5;21;01m.\u001b[39;00m\u001b[38;5;21;01mpiecewise\u001b[39;00m \u001b[38;5;28;01mimport\u001b[39;00m Piecewise\n",
      "\u001b[1;31mPolificationFailed\u001b[0m: Cannot construct polynomials from 4, 6",
      "\nDuring handling of the above exception, another exception occurred:\n",
      "\u001b[1;31mComputationFailed\u001b[0m                         Traceback (most recent call last)",
      "Cell \u001b[1;32mIn[2], line 1\u001b[0m\n\u001b[1;32m----> 1\u001b[0m sp\u001b[38;5;241m.\u001b[39mdiv(\u001b[38;5;241m4\u001b[39m,\u001b[38;5;241m6\u001b[39m)\n",
      "File \u001b[1;32md:\\Tool\\Environments\\Anaconda\\Lib\\site-packages\\sympy\\polys\\polytools.py:4979\u001b[0m, in \u001b[0;36mdiv\u001b[1;34m(f, g, *gens, **args)\u001b[0m\n\u001b[0;32m   4977\u001b[0m     (F, G), opt \u001b[38;5;241m=\u001b[39m parallel_poly_from_expr((f, g), \u001b[38;5;241m*\u001b[39mgens, \u001b[38;5;241m*\u001b[39m\u001b[38;5;241m*\u001b[39margs)\n\u001b[0;32m   4978\u001b[0m \u001b[38;5;28;01mexcept\u001b[39;00m PolificationFailed \u001b[38;5;28;01mas\u001b[39;00m exc:\n\u001b[1;32m-> 4979\u001b[0m     \u001b[38;5;28;01mraise\u001b[39;00m ComputationFailed(\u001b[38;5;124m'\u001b[39m\u001b[38;5;124mdiv\u001b[39m\u001b[38;5;124m'\u001b[39m, \u001b[38;5;241m2\u001b[39m, exc)\n\u001b[0;32m   4981\u001b[0m q, r \u001b[38;5;241m=\u001b[39m F\u001b[38;5;241m.\u001b[39mdiv(G, auto\u001b[38;5;241m=\u001b[39mopt\u001b[38;5;241m.\u001b[39mauto)\n\u001b[0;32m   4983\u001b[0m \u001b[38;5;28;01mif\u001b[39;00m \u001b[38;5;129;01mnot\u001b[39;00m opt\u001b[38;5;241m.\u001b[39mpolys:\n",
      "\u001b[1;31mComputationFailed\u001b[0m: div(4, 6) failed without generators"
     ]
    },
    {
     "ename": "",
     "evalue": "",
     "output_type": "error",
     "traceback": [
      "\u001b[1;31mThe Kernel crashed while executing code in the current cell or a previous cell. \n",
      "\u001b[1;31mPlease review the code in the cell(s) to identify a possible cause of the failure. \n",
      "\u001b[1;31mClick <a href='https://aka.ms/vscodeJupyterKernelCrash'>here</a> for more info. \n",
      "\u001b[1;31mView Jupyter <a href='command:jupyter.viewOutput'>log</a> for further details."
     ]
    }
   ],
   "source": [
    "sp.div(4,6)"
   ]
  },
  {
   "cell_type": "code",
   "execution_count": null,
   "metadata": {},
   "outputs": [],
   "source": []
  }
 ],
 "metadata": {
  "kernelspec": {
   "display_name": "base",
   "language": "python",
   "name": "python3"
  },
  "language_info": {
   "codemirror_mode": {
    "name": "ipython",
    "version": 3
   },
   "file_extension": ".py",
   "mimetype": "text/x-python",
   "name": "python",
   "nbconvert_exporter": "python",
   "pygments_lexer": "ipython3",
   "version": "3.11.5"
  }
 },
 "nbformat": 4,
 "nbformat_minor": 2
}
