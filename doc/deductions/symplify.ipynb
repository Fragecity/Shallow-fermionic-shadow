{
 "cells": [
  {
   "cell_type": "code",
   "execution_count": 1,
   "metadata": {},
   "outputs": [],
   "source": [
    "import re\n",
    "\n",
    "def replace_math_symbols(input_string):\n",
    "    # Replace Sin, Cos, Csc, and [Pi] directly\n",
    "    replaced_string = input_string.replace(\"Sin\", \"sin\")\\\n",
    "                                  .replace(\"Cos\", \"cos\")\\\n",
    "                                  .replace(\"Csc\", \"csc\")\\\n",
    "                                  .replace(\"\\[Pi]\", \"pi\")\\\n",
    "                                  .replace(\"Log\", \"log\")\n",
    "    \n",
    "    replaced_string = re.sub(r'Sqrt\\[(.*?)\\]', r'sqrt(\\1)', replaced_string)\n",
    "    \n",
    "    return replaced_string"
   ]
  },
  {
   "cell_type": "code",
   "execution_count": 3,
   "metadata": {},
   "outputs": [
    {
     "name": "stdout",
     "output_type": "stream",
     "text": [
      "\n",
      "    5 c (15 + 4 sqrt(3) sqrt(1/(c N)) N) \\pi^2 cos[(\n",
      "    a (1 + 2/5 sqrt(3) sqrt(1/(c N)) N) \\pi)/N] csc[(a \\pi)/(\n",
      "    2 N)]^2 Log[N] + \n",
      "    75 c \\pi^2 cos[(b (1 + 2/5 sqrt(3) sqrt(1/(c N)) N) \\pi)/N] csc[(\n",
      "    b \\pi)/(2 N)]^2 Log[N] + (\n",
      "    20 sqrt(3) \\pi^2 cos[(b (1 + 2/5 sqrt(3) sqrt(1/(c N)) N) \\pi)/\n",
      "    N] csc[(b \\pi)/(2 N)]^2 Log[N])/sqrt(1/(c N)) + \n",
      "    2 csc[(a \\pi)/(\n",
      "    2 N)] (-50 N + (12 N + \n",
      "        5 c (5 + 4 sqrt(3) sqrt(1/(c N)) N)) \\pi^2 Log[N]) sin[(\n",
      "    a (5 + 4 sqrt(3) sqrt(1/(c N)) N) \\pi)/(10 N)] - \n",
      "    100 N csc[(b \\pi)/(2 N)] sin[(\n",
      "    b (5 + 4 sqrt(3) sqrt(1/(c N)) N) \\pi)/(10 N)] + \n",
      "    50 c \\pi^2 csc[(b \\pi)/(2 N)] Log[N] sin[(\n",
      "    b (5 + 4 sqrt(3) sqrt(1/(c N)) N) \\pi)/(10 N)] + (\n",
      "    40 sqrt(3) \\pi^2 csc[(b \\pi)/(2 N)] Log[N] sin[(\n",
      "    b (5 + 4 sqrt(3) sqrt(1/(c N)) N) \\pi)/(10 N)])/sqrt(1/(c N)) + \n",
      "    24 N \\pi^2 csc[(b \\pi)/(2 N)] Log[N] sin[(\n",
      "    b (5 + 4 sqrt(3) sqrt(1/(c N)) N) \\pi)/(10 N)] - \n",
      "    25 c \\pi^2 csc[(a \\pi)/(2 N)]^3 Log[N] sin[(\n",
      "    a (15 + 4 sqrt(3) sqrt(1/(c N)) N) \\pi)/(10 N)] - \n",
      "    25 c \\pi^2 csc[(b \\pi)/(2 N)]^3 Log[N] sin[(\n",
      "    b (15 + 4 sqrt(3) sqrt(1/(c N)) N) \\pi)/(10 N)]\n",
      "\n"
     ]
    },
    {
     "name": "stderr",
     "output_type": "stream",
     "text": [
      "<>:1: SyntaxWarning: invalid escape sequence '\\['\n",
      "<>:1: SyntaxWarning: invalid escape sequence '\\['\n",
      "C:\\Users\\15246\\AppData\\Local\\Temp\\ipykernel_9872\\1634012840.py:1: SyntaxWarning: invalid escape sequence '\\['\n",
      "  s1 = \"\"\"\n"
     ]
    }
   ],
   "source": [
    "s1 = \"\"\"\n",
    "    5 c (15 + 4 Sqrt[3] Sqrt[1/(c N)] N) \\[Pi]^2 Cos[(\n",
    "    a (1 + 2/5 Sqrt[3] Sqrt[1/(c N)] N) \\[Pi])/N] Csc[(a \\[Pi])/(\n",
    "    2 N)]^2 Log[N] + \n",
    "    75 c \\[Pi]^2 Cos[(b (1 + 2/5 Sqrt[3] Sqrt[1/(c N)] N) \\[Pi])/N] Csc[(\n",
    "    b \\[Pi])/(2 N)]^2 Log[N] + (\n",
    "    20 Sqrt[3] \\[Pi]^2 Cos[(b (1 + 2/5 Sqrt[3] Sqrt[1/(c N)] N) \\[Pi])/\n",
    "    N] Csc[(b \\[Pi])/(2 N)]^2 Log[N])/Sqrt[1/(c N)] + \n",
    "    2 Csc[(a \\[Pi])/(\n",
    "    2 N)] (-50 N + (12 N + \n",
    "        5 c (5 + 4 Sqrt[3] Sqrt[1/(c N)] N)) \\[Pi]^2 Log[N]) Sin[(\n",
    "    a (5 + 4 Sqrt[3] Sqrt[1/(c N)] N) \\[Pi])/(10 N)] - \n",
    "    100 N Csc[(b \\[Pi])/(2 N)] Sin[(\n",
    "    b (5 + 4 Sqrt[3] Sqrt[1/(c N)] N) \\[Pi])/(10 N)] + \n",
    "    50 c \\[Pi]^2 Csc[(b \\[Pi])/(2 N)] Log[N] Sin[(\n",
    "    b (5 + 4 Sqrt[3] Sqrt[1/(c N)] N) \\[Pi])/(10 N)] + (\n",
    "    40 Sqrt[3] \\[Pi]^2 Csc[(b \\[Pi])/(2 N)] Log[N] Sin[(\n",
    "    b (5 + 4 Sqrt[3] Sqrt[1/(c N)] N) \\[Pi])/(10 N)])/Sqrt[1/(c N)] + \n",
    "    24 N \\[Pi]^2 Csc[(b \\[Pi])/(2 N)] Log[N] Sin[(\n",
    "    b (5 + 4 Sqrt[3] Sqrt[1/(c N)] N) \\[Pi])/(10 N)] - \n",
    "    25 c \\[Pi]^2 Csc[(a \\[Pi])/(2 N)]^3 Log[N] Sin[(\n",
    "    a (15 + 4 Sqrt[3] Sqrt[1/(c N)] N) \\[Pi])/(10 N)] - \n",
    "    25 c \\[Pi]^2 Csc[(b \\[Pi])/(2 N)]^3 Log[N] Sin[(\n",
    "    b (15 + 4 Sqrt[3] Sqrt[1/(c N)] N) \\[Pi])/(10 N)]\n",
    "\"\"\"\n",
    "\n"
   ]
  },
  {
   "cell_type": "code",
   "execution_count": null,
   "metadata": {},
   "outputs": [],
   "source": [
    "print(replace_math_symbols(s1))"
   ]
  },
  {
   "cell_type": "code",
   "execution_count": null,
   "metadata": {},
   "outputs": [],
   "source": []
  }
 ],
 "metadata": {
  "kernelspec": {
   "display_name": "Python 3",
   "language": "python",
   "name": "python3"
  },
  "language_info": {
   "codemirror_mode": {
    "name": "ipython",
    "version": 3
   },
   "file_extension": ".py",
   "mimetype": "text/x-python",
   "name": "python",
   "nbconvert_exporter": "python",
   "pygments_lexer": "ipython3",
   "version": "3.12.4"
  }
 },
 "nbformat": 4,
 "nbformat_minor": 2
}
