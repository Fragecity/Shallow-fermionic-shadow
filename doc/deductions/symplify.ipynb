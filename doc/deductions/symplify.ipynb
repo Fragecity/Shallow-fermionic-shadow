{
 "cells": [
  {
   "cell_type": "code",
   "execution_count": 15,
   "metadata": {},
   "outputs": [],
   "source": [
    "import re\n",
    "\n",
    "def replace_math_symbols(input_string):\n",
    "    # Replace Sin, Cos, Csc, and [Pi] directly\n",
    "    replaced_string = input_string.replace(\"Sin\", \"sin\")\\\n",
    "                                  .replace(\"Cos\", \"cos\")\\\n",
    "                                  .replace(\"Csc\", \"csc\")\\\n",
    "                                  .replace(\"\\\\[Pi]\", \"pi\")\\\n",
    "                                  .replace(\"Log\", \"log\")\n",
    "    \n",
    "    replaced_string = re.sub(r'Sqrt\\[(.*?)\\]', r'sqrt(\\1)', replaced_string)\n",
    "    \n",
    "    return replaced_string"
   ]
  },
  {
   "cell_type": "code",
   "execution_count": 7,
   "metadata": {},
   "outputs": [
    {
     "name": "stderr",
     "output_type": "stream",
     "text": [
      "<>:1: SyntaxWarning: invalid escape sequence '\\['\n",
      "<>:19: SyntaxWarning: invalid escape sequence '\\['\n",
      "<>:1: SyntaxWarning: invalid escape sequence '\\['\n",
      "<>:19: SyntaxWarning: invalid escape sequence '\\['\n",
      "C:\\Users\\15246\\AppData\\Local\\Temp\\ipykernel_9872\\3202688056.py:1: SyntaxWarning: invalid escape sequence '\\['\n",
      "  s1 = \"\"\"\n",
      "C:\\Users\\15246\\AppData\\Local\\Temp\\ipykernel_9872\\3202688056.py:19: SyntaxWarning: invalid escape sequence '\\['\n",
      "  s2 = \"\"\"\n"
     ]
    }
   ],
   "source": [
    "s1 = \"\"\"\n",
    "2  (2 N^2 - \\[Pi]^2 t (1 + T)^2)  Cos[(\\[Pi] (a - N + 2 a T))/(\n",
    "   2 N)]  Csc[(a \\[Pi])/(2 N)] + \\[Pi]^2 t (3 + 2 T) Cos[(\n",
    "   a \\[Pi] (1 + T))/N] Csc[(a \\[Pi])/(\n",
    "   2 N)]^2 + \\[Pi]^2 t Cos[(\\[Pi] (3 a - 3 N + 2 a T))/(2 N)] Csc[(\n",
    "   a \\[Pi])/(2 N)]^3 - \n",
    " 4 N^2 Cos[(\\[Pi] (b - N + 2 b T))/(2 N)] Csc[(b \\[Pi])/(2 N)] + \n",
    " 2 \\[Pi]^2 t Cos[(\\[Pi] (b - N + 2 b T))/(2 N)] Csc[(b \\[Pi])/(\n",
    "   2 N)] + 4 \\[Pi]^2 t T Cos[(\\[Pi] (b - N + 2 b T))/(2 N)] Csc[(\n",
    "   b \\[Pi])/(2 N)] + \n",
    " 2 \\[Pi]^2 t T^2 Cos[(\\[Pi] (b - N + 2 b T))/(2 N)] Csc[(b \\[Pi])/(\n",
    "   2 N)] + 3 \\[Pi]^2 t Cos[(b \\[Pi] (1 + T))/N] Csc[(b \\[Pi])/(\n",
    "   2 N)]^2 + \n",
    " 2 \\[Pi]^2 t T Cos[(b \\[Pi] (1 + T))/N] Csc[(b \\[Pi])/(\n",
    "   2 N)]^2 + \\[Pi]^2 t Cos[(\\[Pi] (3 b - 3 N + 2 b T))/(2 N)] Csc[(\n",
    "   b \\[Pi])/(2 N)]^3\n",
    "\"\"\"\n",
    "\n",
    "s2 = \"\"\"\n",
    "    5 c (15 + 4 Sqrt[3] Sqrt[1/(c N)] N) \\[Pi]^2 Cos[(\n",
    "    a (1 + 2/5 Sqrt[3] Sqrt[1/(c N)] N) \\[Pi])/N] Csc[(a \\[Pi])/(\n",
    "    2 N)]^2 Log[N] + \n",
    "    75 c \\[Pi]^2 Cos[(b (1 + 2/5 Sqrt[3] Sqrt[1/(c N)] N) \\[Pi])/N] Csc[(\n",
    "    b \\[Pi])/(2 N)]^2 Log[N] + (\n",
    "    20 Sqrt[3] \\[Pi]^2 Cos[(b (1 + 2/5 Sqrt[3] Sqrt[1/(c N)] N) \\[Pi])/\n",
    "    N] Csc[(b \\[Pi])/(2 N)]^2 Log[N])/Sqrt[1/(c N)] + \n",
    "    2 Csc[(a \\[Pi])/(\n",
    "    2 N)] (-50 N + (12 N + \n",
    "        5 c (5 + 4 Sqrt[3] Sqrt[1/(c N)] N)) \\[Pi]^2 Log[N]) Sin[(\n",
    "    a (5 + 4 Sqrt[3] Sqrt[1/(c N)] N) \\[Pi])/(10 N)] - \n",
    "    100 N Csc[(b \\[Pi])/(2 N)] Sin[(\n",
    "    b (5 + 4 Sqrt[3] Sqrt[1/(c N)] N) \\[Pi])/(10 N)] + \n",
    "    50 c \\[Pi]^2 Csc[(b \\[Pi])/(2 N)] Log[N] Sin[(\n",
    "    b (5 + 4 Sqrt[3] Sqrt[1/(c N)] N) \\[Pi])/(10 N)] + (\n",
    "    40 Sqrt[3] \\[Pi]^2 Csc[(b \\[Pi])/(2 N)] Log[N] Sin[(\n",
    "    b (5 + 4 Sqrt[3] Sqrt[1/(c N)] N) \\[Pi])/(10 N)])/Sqrt[1/(c N)] + \n",
    "    24 N \\[Pi]^2 Csc[(b \\[Pi])/(2 N)] Log[N] Sin[(\n",
    "    b (5 + 4 Sqrt[3] Sqrt[1/(c N)] N) \\[Pi])/(10 N)] - \n",
    "    25 c \\[Pi]^2 Csc[(a \\[Pi])/(2 N)]^3 Log[N] Sin[(\n",
    "    a (15 + 4 Sqrt[3] Sqrt[1/(c N)] N) \\[Pi])/(10 N)] - \n",
    "    25 c \\[Pi]^2 Csc[(b \\[Pi])/(2 N)]^3 Log[N] Sin[(\n",
    "    b (15 + 4 Sqrt[3] Sqrt[1/(c N)] N) \\[Pi])/(10 N)]\n",
    "\"\"\"\n",
    "\n"
   ]
  },
  {
   "cell_type": "code",
   "execution_count": 8,
   "metadata": {},
   "outputs": [
    {
     "name": "stdout",
     "output_type": "stream",
     "text": [
      "\n",
      "2  (2 N^2 - pi^2 t (1 + T)^2)  cos[(pi (a - N + 2 a T))/(\n",
      "   2 N)]  csc[(a pi)/(2 N)] + pi^2 t (3 + 2 T) cos[(\n",
      "   a pi (1 + T))/N] csc[(a pi)/(\n",
      "   2 N)]^2 + pi^2 t cos[(pi (3 a - 3 N + 2 a T))/(2 N)] csc[(\n",
      "   a pi)/(2 N)]^3 - \n",
      " 4 N^2 cos[(pi (b - N + 2 b T))/(2 N)] csc[(b pi)/(2 N)] + \n",
      " 2 pi^2 t cos[(pi (b - N + 2 b T))/(2 N)] csc[(b pi)/(\n",
      "   2 N)] + 4 pi^2 t T cos[(pi (b - N + 2 b T))/(2 N)] csc[(\n",
      "   b pi)/(2 N)] + \n",
      " 2 pi^2 t T^2 cos[(pi (b - N + 2 b T))/(2 N)] csc[(b pi)/(\n",
      "   2 N)] + 3 pi^2 t cos[(b pi (1 + T))/N] csc[(b pi)/(\n",
      "   2 N)]^2 + \n",
      " 2 pi^2 t T cos[(b pi (1 + T))/N] csc[(b pi)/(\n",
      "   2 N)]^2 + pi^2 t cos[(pi (3 b - 3 N + 2 b T))/(2 N)] csc[(\n",
      "   b pi)/(2 N)]^3\n",
      "\n"
     ]
    }
   ],
   "source": [
    "print(replace_math_symbols(s1))"
   ]
  },
  {
   "cell_type": "code",
   "execution_count": 21,
   "metadata": {},
   "outputs": [
    {
     "name": "stdout",
     "output_type": "stream",
     "text": [
      "\n",
      "(E^(-(a^2/(8 t))) sqrt(pi/2))/sqrt(t)\n",
      "\n"
     ]
    },
    {
     "name": "stderr",
     "output_type": "stream",
     "text": [
      "<>:1: SyntaxWarning: invalid escape sequence '\\['\n",
      "<>:1: SyntaxWarning: invalid escape sequence '\\['\n",
      "C:\\Users\\15246\\AppData\\Local\\Temp\\ipykernel_9872\\1626324398.py:1: SyntaxWarning: invalid escape sequence '\\['\n",
      "  s3 = \"\"\"\n"
     ]
    }
   ],
   "source": [
    "s3 = \"\"\"\n",
    "(E^(-(a^2/(8 t))) Sqrt[\\[Pi]/2])/Sqrt[t]\n",
    "\"\"\"\n",
    "\n",
    "res = replace_math_symbols(s3)\n",
    "print(res)"
   ]
  },
  {
   "cell_type": "code",
   "execution_count": 12,
   "metadata": {},
   "outputs": [
    {
     "data": {
      "text/plain": [
       "'\\n-4 N (19 csc[(a pi)/(2 N)] sin[(\\n     a (5 + 4 sqrt(3) sqrt(1/(c N)) N) pi)/(10 N)] + \\n   csc[(b pi)/(2 N)] (25 - 6 pi^2 log[N]) sin[(\\n     b (5 + 4 sqrt(3) sqrt(1/(c N)) N) pi)/(10 N)])\\n'"
      ]
     },
     "execution_count": 12,
     "metadata": {},
     "output_type": "execute_result"
    }
   ],
   "source": [
    "res"
   ]
  }
 ],
 "metadata": {
  "kernelspec": {
   "display_name": "Python 3",
   "language": "python",
   "name": "python3"
  },
  "language_info": {
   "codemirror_mode": {
    "name": "ipython",
    "version": 3
   },
   "file_extension": ".py",
   "mimetype": "text/x-python",
   "name": "python",
   "nbconvert_exporter": "python",
   "pygments_lexer": "ipython3",
   "version": "3.12.4"
  }
 },
 "nbformat": 4,
 "nbformat_minor": 2
}
