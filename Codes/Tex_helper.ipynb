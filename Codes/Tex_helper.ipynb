{
 "cells": [
  {
   "cell_type": "code",
   "execution_count": 1,
   "metadata": {},
   "outputs": [
    {
     "data": {
      "text/plain": [
       "<qiskit.circuit.instructionset.InstructionSet at 0x2f002404430>"
      ]
     },
     "execution_count": 1,
     "metadata": {},
     "output_type": "execute_result"
    }
   ],
   "source": [
    "import qiskit\n",
    "\n",
    "from QCompTool.Texutils import extract_qcircuit\n",
    "\n",
    "qc = qiskit.QuantumCircuit(9)\n",
    "\n",
    "def QFT(n):\n",
    "    return qiskit.circuit.library.QFT(n)\n",
    "# def IQFT(n):\n",
    "#     return qiskit.circuit.library.IQFT(n)\n",
    "\n",
    "mul = qiskit.circuit.Gate(name='MUL', num_qubits=9, params=[])\n",
    "cz = qiskit.circuit.Gate(name='CZ', num_qubits=9, params=[])\n",
    "\n",
    "\n",
    "# qc.append(QFT(1), [0])\n",
    "qc.append(QFT(3), range(6,9))\n",
    "qc.append(QFT(6), range(0,6))\n",
    "# qc.append(QFT(5), range(1, 6))\n",
    "qc.append(cz, range(0, 9))\n",
    "# qc.append(QFT(3), range(3,6))\n",
    "# qc.append(mul, range(9))\n",
    "\n",
    "# qc.append(QFT(6), range(3,9))\n",
    "# qc.append(QFT(6), range(3,9))\n",
    "# qc.measure(range(3,9))"
   ]
  },
  {
   "cell_type": "code",
   "execution_count": 41,
   "metadata": {},
   "outputs": [
    {
     "data": {
      "image/jpeg": "[encoded data removed]",
      "image/png": "[encoded data removed]",
      "text/plain": [
       "<PIL.Image.Image image mode=RGB size=237x342>"
      ]
     },
     "execution_count": 41,
     "metadata": {},
     "output_type": "execute_result"
    }
   ],
   "source": [
    "qc.draw('latex')"
   ]
  },
  {
   "cell_type": "code",
   "execution_count": 42,
   "metadata": {},
   "outputs": [
    {
     "name": "stdout",
     "output_type": "stream",
     "text": [
      "\\Qcircuit @C=1.0em @R=1.0em @!R { \\\\\n",
      "\t \t & \\multigate{5}{\\mathrm{QFT}} & \\multigate{8}{\\mathrm{CZ}} & \\qw & \\qw\\\\\n",
      "\t \t & \\ghost{\\mathrm{QFT}} & \\ghost{\\mathrm{CZ}} & \\qw & \\qw\\\\\n",
      "\t \t & \\ghost{\\mathrm{QFT}} & \\ghost{\\mathrm{CZ}} & \\qw & \\qw\\\\\n",
      "\t \t & \\ghost{\\mathrm{QFT}} & \\ghost{\\mathrm{CZ}} & \\qw & \\qw\\\\\n",
      "\t \t & \\ghost{\\mathrm{QFT}} & \\ghost{\\mathrm{CZ}} & \\qw & \\qw\\\\\n",
      "\t \t & \\ghost{\\mathrm{QFT}} & \\ghost{\\mathrm{CZ}} & \\qw & \\qw\\\\\n",
      "\t \t & \\multigate{2}{\\mathrm{QFT}} & \\ghost{\\mathrm{CZ}} & \\qw & \\qw\\\\\n",
      "\t \t & \\ghost{\\mathrm{QFT}} & \\ghost{\\mathrm{CZ}} & \\qw & \\qw\\\\\n",
      "\t \t & \\ghost{\\mathrm{QFT}} & \\ghost{\\mathrm{CZ}} & \\qw & \\qw\\\\\n",
      "\\\\ }\n"
     ]
    }
   ],
   "source": [
    "s = qc.draw('latex_source')\n",
    "ss = extract_qcircuit(s)\n",
    "\n",
    "print(ss)"
   ]
  },
  {
   "cell_type": "code",
   "execution_count": 1,
   "metadata": {},
   "outputs": [],
   "source": [
    "from QCompTool.Texutils import QcomTex\n",
    "\n",
    "tex = QcomTex(title= \"tensor try\")\n",
    "tex.save()"
   ]
  },
  {
   "cell_type": "code",
   "execution_count": 8,
   "metadata": {},
   "outputs": [
    {
     "name": "stdout",
     "output_type": "stream",
     "text": [
      "\\Qcircuit @C=1.0em @R=0.2em @!R { \\\\\n",
      "\t \t & \\qw & \\qw & \\qw & \\qw & \\qw & \\qw & \\qw & \\qw & \\qw & \\qw & \\qw & \\qw & \\qw & \\qw & \\control \\qw & \\qw & \\qw & \\qw & \\qw & \\control \\qw & \\qw & \\qw & \\qw & \\control \\qw & \\dstick{\\hspace{2.0em}\\mathrm{P}\\,(\\mathrm{\\frac{\\pi}{2}})} \\qw & \\qw & \\qw & \\gate{\\mathrm{H}} & \\qswap & \\qw & \\qw\\\\\n",
      "\t \t & \\qw & \\qw & \\qw & \\qw & \\qw & \\qw & \\control \\qw & \\qw & \\qw & \\qw & \\control \\qw & \\dstick{\\hspace{2.0em}\\mathrm{P}\\,(\\mathrm{\\frac{\\pi}{2}})} \\qw & \\qw & \\qw & \\qw & \\qw & \\qw & \\qw & \\gate{\\mathrm{H}} & \\qw & \\dstick{\\hspace{2.0em}\\mathrm{P}\\,(\\mathrm{\\frac{\\pi}{4}})} \\qw & \\qw & \\qw & \\ctrl{-1} & \\qw & \\qw & \\qw & \\qswap & \\qw & \\qw & \\qw\\\\\n",
      "\t \t & \\qw & \\control \\qw & \\dstick{\\hspace{2.0em}\\mathrm{P}\\,(\\mathrm{\\frac{\\pi}{2}})} \\qw & \\qw & \\qw & \\gate{\\mathrm{H}} & \\qw & \\dstick{\\hspace{2.0em}\\mathrm{P}\\,(\\mathrm{\\frac{\\pi}{4}})} \\qw & \\qw & \\qw & \\ctrl{-1} & \\qw & \\qw & \\qw & \\qw & \\dstick{\\hspace{2.0em}\\mathrm{P}\\,(\\mathrm{\\frac{\\pi}{8}})} \\qw & \\qw & \\qw & \\qw & \\ctrl{-2} & \\qw & \\qw & \\qw & \\qw & \\qw & \\qw & \\qw & \\qswap \\qwx[-1] & \\qw & \\qw & \\qw\\\\\n",
      "\t \t & \\gate{\\mathrm{H}} & \\ctrl{-1} & \\qw & \\qw & \\qw & \\qw & \\ctrl{-2} & \\qw & \\qw & \\qw & \\qw & \\qw & \\qw & \\qw & \\ctrl{-3} & \\qw & \\qw & \\qw & \\qw & \\qw & \\qw & \\qw & \\qw & \\qw & \\qw & \\qw & \\qw & \\qw & \\qswap \\qwx[-3] & \\qw & \\qw\\\\\n",
      "\\\\ }\n"
     ]
    },
    {
     "name": "stderr",
     "output_type": "stream",
     "text": [
      "d:\\Tool\\Environments\\Anaconda\\Lib\\site-packages\\qiskit\\visualization\\circuit\\latex.py:154: FutureWarning: The default matplotlib drawer scheme will be changed to \"iqp\" in a following release. To silence this warning, specify the current default explicitly as style=\"clifford\", or the new default as style=\"iqp\".\n",
      "  self._style, _ = load_style(style)\n"
     ]
    }
   ],
   "source": [
    "s = qiskit.circuit.library.QFT(4).decompose().draw('latex_source')\n",
    "print(extract_qcircuit(s))"
   ]
  },
  {
   "cell_type": "code",
   "execution_count": 2,
   "metadata": {},
   "outputs": [
    {
     "name": "stdout",
     "output_type": "stream",
     "text": [
      "hello\n",
      "world\n",
      "init\n"
     ]
    }
   ],
   "source": [
    "class learn():\n",
    "    print(\"hello\")\n",
    "\n",
    "    print(\"world\")\n",
    "    def __init__(self):\n",
    "        print(\"init\")\n",
    "\n",
    "L = learn()"
   ]
  },
  {
   "cell_type": "code",
   "execution_count": 7,
   "metadata": {},
   "outputs": [],
   "source": [
    "import numpy as np\n",
    "\n",
    "def func(l):\n",
    "    a = 32/3\n",
    "    aa = np.round(a*l)\n",
    "    return aa/a\n",
    "\n",
    "def func2(l):\n",
    "    a = 32/3\n",
    "    aa = np.round(a*l)\n",
    "    return aa\n",
    "\n",
    "def print_eta():\n",
    "    for i in range(6):\n",
    "        print(\"\\n\")\n",
    "        print(f\"$\\eta is$ {func(i)}\")\n",
    "        print(f\"error is {np.abs(func(i)-i)}\")\n",
    "\n",
    "def print_i():\n",
    "    for i in range(6):\n",
    "        print(\"\\n\")\n",
    "        print(f\"$\\eta is$ {func2(i)}\")"
   ]
  },
  {
   "cell_type": "code",
   "execution_count": 20,
   "metadata": {},
   "outputs": [
    {
     "name": "stdout",
     "output_type": "stream",
     "text": [
      "\n",
      "\n",
      "$\\eta is$ 0.0\n",
      "\n",
      "\n",
      "$\\eta is$ 11.0\n",
      "\n",
      "\n",
      "$\\eta is$ 21.0\n",
      "\n",
      "\n",
      "$\\eta is$ 32.0\n",
      "\n",
      "\n",
      "$\\eta is$ 43.0\n",
      "\n",
      "\n",
      "$\\eta is$ 53.0\n"
     ]
    }
   ],
   "source": [
    "print_i()"
   ]
  },
  {
   "cell_type": "code",
   "execution_count": 13,
   "metadata": {},
   "outputs": [],
   "source": [
    "def expp(k,l,t):\n",
    "    fac1 = 3/32*k\n",
    "    fac2 = np.round(32/3*l) + t\n",
    "    return np.exp(2*np.pi*1j*( fac1 *fac2))\n",
    "\n",
    "\n",
    "def sum_k(l, t):\n",
    "    r = func2(l) - func2(l-1)\n",
    "    nums = [ expp(k,l,t)  for k in range(8)]\n",
    "    return np.sum(nums)\n",
    "\n"
   ]
  },
  {
   "cell_type": "code",
   "execution_count": 19,
   "metadata": {},
   "outputs": [
    {
     "name": "stdout",
     "output_type": "stream",
     "text": [
      "(0, 0) : 8.0\n",
      "(0, 1) : 2.435908046798835\n",
      "(0, 2) : 1.7999524462728305\n",
      "(0, 3) : 0.9147441384660491\n",
      "(0, 4) : 8.742424551607822e-16\n",
      "(0, 5) : 0.7105281685250978\n",
      "(0, 6) : 1.0195911582083186\n",
      "(0, 7) : 0.8017799431438174\n",
      "(0, 8) : 2.920540795418237e-15\n",
      "(0, 9) : 1.5000247688340633\n",
      "(0, 10) : 5.125830895483012\n",
      "(1, 0) : 7.214113560230996\n",
      "(1, 1) : 3.4166589240103456e-15\n",
      "(1, 2) : 1.1146189577318137\n",
      "(1, 3) : 1.2026897738700906\n",
      "(1, 4) : 0.7389246275688683\n",
      "(1, 5) : 1.4695761589768245e-15\n",
      "(1, 6) : 0.7389246275688705\n",
      "(1, 7) : 1.202689773870094\n",
      "(1, 8) : 1.1146189577318115\n",
      "(1, 9) : 8.10367237763794e-15\n",
      "(1, 10) : 7.2141135602309925\n",
      "(2, 0) : 7.2141135602309925\n",
      "(2, 1) : 5.1258308954830145\n",
      "(2, 2) : 1.5000247688340604\n",
      "(2, 3) : 5.7902148899581444e-15\n",
      "(2, 4) : 0.80177994314382\n",
      "(2, 5) : 1.0195911582083184\n",
      "(2, 6) : 0.7105281685250922\n",
      "(2, 7) : 1.0844476552114614e-15\n",
      "(2, 8) : 0.9147441384660587\n",
      "(2, 9) : 1.7999524462728371\n",
      "(2, 10) : 2.4359080467988212\n",
      "(3, 0) : 8.0\n",
      "(3, 1) : 2.435908046798854\n",
      "(3, 2) : 1.799952446272839\n",
      "(3, 3) : 0.9147441384660535\n",
      "(3, 4) : 7.80130682221044e-15\n",
      "(3, 5) : 0.7105281685251075\n",
      "(3, 6) : 1.0195911582083272\n",
      "(3, 7) : 0.8017799431438151\n",
      "(3, 8) : 1.0889244914870513e-14\n",
      "(3, 9) : 1.5000247688340635\n",
      "(3, 10) : 5.125830895483004\n",
      "(4, 0) : 7.214113560230996\n",
      "(4, 1) : 1.455938472658993e-14\n",
      "(4, 2) : 1.1146189577318522\n",
      "(4, 3) : 1.2026897738700737\n",
      "(4, 4) : 0.7389246275688557\n",
      "(4, 5) : 1.3354839917072033e-14\n",
      "(4, 6) : 0.7389246275688643\n",
      "(4, 7) : 1.2026897738700901\n",
      "(4, 8) : 1.114618957731819\n",
      "(4, 9) : 2.143683973973965e-14\n",
      "(4, 10) : 7.214113560230978\n"
     ]
    }
   ],
   "source": [
    "for l in range(5):\n",
    "    r = func2(l+1) - func2(l)\n",
    "    r = int(r)\n",
    "    for t in range(11):\n",
    "        norm = np.abs(sum_k(l,t))\n",
    "        print(f\"({l}, {t}) : {norm}\")"
   ]
  },
  {
   "cell_type": "code",
   "execution_count": 21,
   "metadata": {},
   "outputs": [
    {
     "data": {
      "text/plain": [
       "5.067861083785467"
      ]
     },
     "execution_count": 21,
     "metadata": {},
     "output_type": "execute_result"
    }
   ],
   "source": [
    "8*np.log(6)/np.sqrt(8)"
   ]
  },
  {
   "cell_type": "code",
   "execution_count": 11,
   "metadata": {},
   "outputs": [],
   "source": [
    "import numpy as np\n",
    "import matplotlib.pyplot as plt\n",
    "\n",
    "def sin_series(n_term):\n",
    "    def res_func(x):\n",
    "        terms = [np.sin(k*x) for k in range(n_term)]\n",
    "        return np.sum(terms)/n_term\n",
    "    return res_func\n",
    "\n",
    "def cos_series(n_term):\n",
    "    def res_func(x):\n",
    "        terms = [np.cos(k*x) for k in range(n_term)]\n",
    "        return np.sum(terms)/n_term\n",
    "    return res_func\n",
    "\n",
    "\n",
    "s_func = sin_series(10)\n"
   ]
  },
  {
   "cell_type": "code",
   "execution_count": 6,
   "metadata": {},
   "outputs": [
    {
     "name": "stdout",
     "output_type": "stream",
     "text": [
      "eigval: 4.0, \n",
      "eigvec: [-0.5         0.5         0.48626721 -0.1160966 ]\n",
      "\n",
      "eigval: 1.9999999999999996, \n",
      "eigvec: [-0.5         0.5        -0.32168166  0.80387793]\n",
      "\n",
      "eigval: 4.817432010360868e-18, \n",
      "eigvec: [-0.5        -0.5        -0.65085276 -0.57168473]\n",
      "\n",
      "eigval: 1.91833490514552e-16, \n",
      "eigvec: [-0.5        -0.5         0.48626721 -0.1160966 ]\n",
      "\n"
     ]
    }
   ],
   "source": [
    "import numpy as np\n",
    "\n",
    "mat = np.array([\n",
    "    [2,1,1,0], [2,1,1,0], [0,1,1,2], [0,1,1,2]\n",
    "    ])\n",
    "\n",
    "eigvals, eigvecs = np.linalg.eig(mat)\n",
    "\n",
    "for eigval, eigvec in zip(eigvals, eigvecs):\n",
    "    print(f\"eigval: {eigval}, \\neigvec: {eigvec}\\n\") "
   ]
  },
  {
   "cell_type": "code",
   "execution_count": 8,
   "metadata": {},
   "outputs": [],
   "source": [
    "U, S, V = np.linalg.svd(mat)"
   ]
  },
  {
   "cell_type": "code",
   "execution_count": 11,
   "metadata": {},
   "outputs": [
    {
     "data": {
      "text/plain": [
       "array([[ 2.00000000e+00,  1.00000000e+00,  1.00000000e+00,\n",
       "        -2.22044605e-16],\n",
       "       [ 2.00000000e+00,  1.00000000e+00,  1.00000000e+00,\n",
       "         6.66133815e-16],\n",
       "       [ 4.44089210e-16,  1.00000000e+00,  1.00000000e+00,\n",
       "         2.00000000e+00],\n",
       "       [ 4.44089210e-16,  1.00000000e+00,  1.00000000e+00,\n",
       "         2.00000000e+00]])"
      ]
     },
     "execution_count": 11,
     "metadata": {},
     "output_type": "execute_result"
    }
   ],
   "source": [
    "U @ np.diag(S) @ V"
   ]
  },
  {
   "cell_type": "code",
   "execution_count": 10,
   "metadata": {},
   "outputs": [
    {
     "name": "stdout",
     "output_type": "stream",
     "text": [
      "[[-5.00000000e-01 -5.00000000e-01  7.07106781e-01 -7.85046229e-17]\n",
      " [-5.00000000e-01 -5.00000000e-01 -7.07106781e-01  7.85046229e-17]\n",
      " [-5.00000000e-01  5.00000000e-01 -7.85046229e-17 -7.07106781e-01]\n",
      " [-5.00000000e-01  5.00000000e-01 -7.85046229e-17  7.07106781e-01]]\n",
      "[4.00000000e+00 2.82842712e+00 2.50743344e-16 4.26838283e-48]\n",
      "[[-5.00000000e-01 -5.00000000e-01 -5.00000000e-01 -5.00000000e-01]\n",
      " [-7.07106781e-01  9.21178851e-17  3.14162490e-16  7.07106781e-01]\n",
      " [-5.00000000e-01  5.00000000e-01  5.00000000e-01 -5.00000000e-01]\n",
      " [ 0.00000000e+00  7.07106781e-01 -7.07106781e-01  2.22044605e-16]]\n"
     ]
    }
   ],
   "source": [
    "print(U)\n",
    "print(S)\n",
    "print(V)\n"
   ]
  },
  {
   "cell_type": "code",
   "execution_count": null,
   "metadata": {},
   "outputs": [],
   "source": []
  }
 ],
 "metadata": {
  "kernelspec": {
   "display_name": "base",
   "language": "python",
   "name": "python3"
  },
  "language_info": {
   "codemirror_mode": {
    "name": "ipython",
    "version": 3
   },
   "file_extension": ".py",
   "mimetype": "text/x-python",
   "name": "python",
   "nbconvert_exporter": "python",
   "pygments_lexer": "ipython3",
   "version": "3.11.5"
  }
 },
 "nbformat": 4,
 "nbformat_minor": 2
}
