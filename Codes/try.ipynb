{
 "cells": [
  {
   "cell_type": "code",
   "execution_count": 31,
   "metadata": {},
   "outputs": [
    {
     "name": "stderr",
     "output_type": "stream",
     "text": [
      "WARNING: replacing module Spread.\n"
     ]
    },
    {
     "data": {
      "text/plain": [
       "Main.Spread"
      ]
     },
     "metadata": {},
     "output_type": "display_data"
    }
   ],
   "source": [
    "module Spread\n",
    "export C_init, spread_row\n",
    "\n",
    "function C_init(N2::Int64)\n",
    "    C = zeros(Float64, N2, 2)\n",
    "    C[1,1] = 1/2\n",
    "    C[2,1] = 1/2\n",
    "    C[N2-1,2] = 1/2\n",
    "    C[N2,2] = 1/2\n",
    "    \n",
    "    return C\n",
    "end\n",
    "\n",
    "function spread_row(M::Matrix{Float64}, row_index::Int64)\n",
    "    M_cp = zeros(Float64, size(M)... )\n",
    "    if row_index == 1\n",
    "        mother = M[1,1] * M[1,2] >0 ? sqrt(6) : 2\n",
    "\n",
    "        M_cp[1,1] = 1/mother * M[1,1]\n",
    "        M_cp[2,1] = 1/mother * M[1,1]\n",
    "        M_cp[1,2] = 1/mother * M[1,2]\n",
    "        M_cp[2,2] = 1/mother * M[1,2]\n",
    "    elseif row_index == size(M, 1)\n",
    "        mother = M[end,1] * M[end,2] >0 ? 1/sqrt(6) : 1/2\n",
    "\n",
    "        M_cp[end,1] = mother * M[end,1]\n",
    "        M_cp[end-1,1] = mother * M[end,1]\n",
    "        M_cp[end,2] = mother * M[end,2]\n",
    "        M_cp[end-1,2] = mother * M[end,2]\n",
    "    else\n",
    "        M_cp[row_index, 1] = 1/2 * M[row_index, 1]\n",
    "        M_cp[row_index+1, 1] = 1/4 * M[row_index, 1]\n",
    "        M_cp[row_index-1, 1] = 1/4 * M[row_index, 1]\n",
    "\n",
    "        M_cp[row_index, 2] = 1/2 * M[row_index, 2]\n",
    "        M_cp[row_index+1, 2] = 1/4 * M[row_index, 2]\n",
    "        M_cp[row_index-1, 2] = 1/4 * M[row_index, 2]\n",
    "    end\n",
    "\n",
    "    return M_cp\n",
    "end\n",
    "\n",
    "function spread_block(M::Matrix{Float64}, row_index::Int64)\n",
    "    M_cp = zeros(Float64, size(M)... )\n",
    "    \n",
    "    if row_index == 1\n",
    "        M_cp[1,1] = 1/2 * M[1,1]\n",
    "        M_cp[2,1] = 1/2 * M[1,1]\n",
    "        M_cp[1,2] = 1/2 * M[1,2]\n",
    "        M_cp[2,2] = 1/2 * M[1,2]\n",
    "    end\n",
    "    \n",
    "end\n",
    "\n",
    "end"
   ]
  },
  {
   "cell_type": "code",
   "execution_count": 34,
   "metadata": {},
   "outputs": [
    {
     "data": {
      "text/plain": [
       "1"
      ]
     },
     "metadata": {},
     "output_type": "display_data"
    }
   ],
   "source": [
    "N2 = 8\n",
    "\n",
    "C0 = Spread.C_init(N2)\n",
    "\n",
    "# C_test = zeros(Float64, N2, 2)\n",
    "\n",
    "# C_test[4,1] = 1\n",
    "# C_test[4,2] = 1\n",
    "\n",
    "\n",
    "# C_test[1,1] = 1\n",
    "# C_test[1,2] = 1\n",
    "\n",
    "C_test[N2,1] = 1\n",
    "C_test[N2,2] = 1"
   ]
  },
  {
   "cell_type": "code",
   "execution_count": 35,
   "metadata": {},
   "outputs": [
    {
     "data": {
      "text/plain": [
       "8×2 Matrix{Float64}:\n",
       " 0.0       0.0\n",
       " 0.0       0.0\n",
       " 0.0       0.0\n",
       " 0.0       0.0\n",
       " 0.0       0.0\n",
       " 0.0       0.0\n",
       " 0.408248  0.408248\n",
       " 0.408248  0.408248"
      ]
     },
     "metadata": {},
     "output_type": "display_data"
    }
   ],
   "source": [
    "# rst = Spread.spread_row(C_test, 1)\n",
    "rst = Spread.spread_row(C_test, N2)"
   ]
  },
  {
   "cell_type": "code",
   "execution_count": 36,
   "metadata": {},
   "outputs": [
    {
     "data": {
      "text/plain": [
       "0.0"
      ]
     },
     "metadata": {},
     "output_type": "display_data"
    }
   ],
   "source": [
    "rst[1,1] * rst[1,2]"
   ]
  },
  {
   "cell_type": "code",
   "execution_count": null,
   "metadata": {},
   "outputs": [],
   "source": [
    "function spread(M, (i,j))\n",
    "    M_cp = zeros(size(M))\n",
    "    if i == j == 0\n",
    "\n",
    "end\n",
    "\n",
    "\n",
    "eta(i) = 1 - i % 2\n",
    "\n",
    "# function  eta(i)\n",
    "#     if i %2 == 0\n",
    "#         return 1\n",
    "#     else\n",
    "#         return 0\n",
    "# end"
   ]
  }
 ],
 "metadata": {
  "kernelspec": {
   "display_name": "Julia 1.10.2",
   "language": "julia",
   "name": "julia-1.10"
  },
  "language_info": {
   "file_extension": ".jl",
   "mimetype": "application/julia",
   "name": "julia",
   "version": "1.10.2"
  }
 },
 "nbformat": 4,
 "nbformat_minor": 2
}
